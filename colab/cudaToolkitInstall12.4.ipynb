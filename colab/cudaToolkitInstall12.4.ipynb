{
 "cells": [
  {
   "cell_type": "markdown",
   "id": "ddf43f57-a936-44c4-a1ea-347ad4b26fad",
   "metadata": {},
   "source": [
    "# Setup the Cuda 12.4 toolkit (the nvcc compiler)"
   ]
  },
  {
   "cell_type": "code",
   "execution_count": null,
   "id": "c8a49a52-df17-490f-93f0-4ea0f1796f34",
   "metadata": {},
   "outputs": [],
   "source": [
    "# 1. Download the CUDA 12.4.0 runfile installer\n",
    "!wget https://developer.download.nvidia.com/compute/cuda/12.4.0/local_installers/cuda_12.4.0_550.54.14_linux.run"
   ]
  },
  {
   "cell_type": "code",
   "execution_count": null,
   "id": "a4a1a339-60f2-4aa7-8806-2b577397733e",
   "metadata": {},
   "outputs": [],
   "source": [
    "# 2. Make the installer executable\n",
    "!chmod +x cuda_12.4.0_550.54.14_linux.run"
   ]
  },
  {
   "cell_type": "code",
   "execution_count": null,
   "id": "27a8b9b4-f92e-481c-97e0-d8bb3f316709",
   "metadata": {},
   "outputs": [],
   "source": [
    "# 3. Run the installer silently\n",
    "# --silent: Runs without user prompts\n",
    "# --toolkit: Installs *only* the CUDA Toolkit\n",
    "# --no-driver: Crucially, this *skips* the driver installation, leaving your existing driver (550.54.15) untouched\n",
    "!sudo ./cuda_12.4.0_550.54.14_linux.run --silent --toolkit"
   ]
  },
  {
   "cell_type": "code",
   "execution_count": null,
   "id": "adc92763-7805-4c86-8e53-1bb646b9a485",
   "metadata": {},
   "outputs": [],
   "source": [
    "# 4. Update the /usr/local/cuda symlink to point to the new 12.4 installation\n",
    "# Colab's environment variables (PATH, LD_LIBRARY_PATH) use this symlink.\n",
    "!sudo rm /usr/local/cuda\n",
    "!sudo ln -s /usr/local/cuda-12.4 /usr/local/cuda"
   ]
  },
  {
   "cell_type": "code",
   "execution_count": null,
   "id": "4b89c0a5-75bc-4285-b0a9-13ea32dec684",
   "metadata": {},
   "outputs": [],
   "source": [
    "# 5. Clean up the downloaded installer file\n",
    "!rm cuda_12.4.0_550.54.14_linux.run"
   ]
  },
  {
   "cell_type": "code",
   "execution_count": null,
   "id": "77ca54cb-ce50-4f29-9535-2ea47bf09272",
   "metadata": {},
   "outputs": [],
   "source": [
    "# 6. Verify the change. This should now output 12.4.\n",
    "!nvcc --version"
   ]
  }
 ],
 "metadata": {
  "kernelspec": {
   "display_name": "Python 3 (ipykernel)",
   "language": "python",
   "name": "python3"
  },
  "language_info": {
   "codemirror_mode": {
    "name": "ipython",
    "version": 3
   },
   "file_extension": ".py",
   "mimetype": "text/x-python",
   "name": "python",
   "nbconvert_exporter": "python",
   "pygments_lexer": "ipython3",
   "version": "3.11.5"
  }
 },
 "nbformat": 4,
 "nbformat_minor": 5
}
